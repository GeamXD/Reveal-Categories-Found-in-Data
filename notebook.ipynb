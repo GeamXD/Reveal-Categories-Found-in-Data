{
 "cells": [
  {
   "source": "![wordcloud](wordcloud.png)\n\nAs a Data Scientist working for a mobile app company, you usually find yourself applying product analytics to better understand user behavior, uncover patterns, and reveal insights to identify the great and not-so-great features. Recently, the number of negative reviews has increased on Google Play, and as a consequence, the app's rating has been decreasing. The team has requested you to analyze the situation and make sense of the negative reviews.\n\nIt's up to you to apply K-means clustering from scikit-learn and NLP techniques through NLTK to sort text data from negative reviews in the Google Play Store into categories!\n\n## The Data\n\nA dataset has been shared with a sample of reviews and their respective scores (from 1 to 5) in the Google Play Store. A summary and preview are provided below.\n\n# reviews.csv\n\n| Column     | Description              |\n|------------|--------------------------|\n| `'content'` | Content (text) of each review. |\n| `'score'` | Score assigned to the review by the user as an integer (from 1 to 5). |",
   "metadata": {},
   "id": "c79a760b-d438-41bb-b1a1-2578773c0fe0",
   "cell_type": "markdown"
  },
  {
   "source": [
    "# Import necessary libraries\n",
    "import re\n",
    "import statistics\n",
    "from typing import Counter\n",
    "from collections import Counter\n",
    "import pandas as pd\n",
    "import numpy as np\n",
    "from sklearn.feature_extraction.text import TfidfVectorizer\n",
    "from sklearn.cluster import KMeans\n",
    "import nltk\n",
    "from nltk.corpus import stopwords\n",
    "from nltk.tokenize import word_tokenize"
   ],
   "metadata": {
    "executionCancelledAt": null,
    "executionTime": 2549,
    "lastExecutedAt": 1720631139848,
    "lastExecutedByKernel": "38fa4f9d-01e5-4acb-bf3b-15411647eebd",
    "lastScheduledRunId": null,
    "lastSuccessfullyExecutedCode": "# Import necessary libraries\nimport pandas as pd\nimport numpy as np\nfrom sklearn.feature_extraction.text import TfidfVectorizer\nfrom sklearn.cluster import KMeans\nimport nltk\nfrom nltk.corpus import stopwords\nfrom nltk.tokenize import word_tokenize",
    "ExecuteTime": {
     "end_time": "2025-01-25T14:13:13.472002Z",
     "start_time": "2025-01-25T14:13:11.268412Z"
    }
   },
   "id": "48172b7a-d771-435b-a6fe-c99134ac5eba",
   "cell_type": "code",
   "outputs": [],
   "execution_count": 1
  },
  {
   "source": [
    "# Download necessary files from NLTK:\n",
    "# punkt -> Tokenization\n",
    "# stopwords -> Stop words removal\n",
    "# nltk.download(\"punkt\")\n",
    "# nltk.download(\"stopwords\")"
   ],
   "metadata": {
    "executionCancelledAt": null,
    "executionTime": null,
    "lastExecutedAt": null,
    "lastExecutedByKernel": null,
    "lastScheduledRunId": null,
    "lastSuccessfullyExecutedCode": null,
    "outputsMetadata": {
     "0": {
      "height": 105,
      "type": "stream"
     }
    },
    "ExecuteTime": {
     "end_time": "2025-01-25T14:13:13.487008Z",
     "start_time": "2025-01-25T14:13:13.481790Z"
    }
   },
   "id": "8a6577b0-9915-43c7-b1db-b0c106a71cca",
   "cell_type": "code",
   "outputs": [],
   "execution_count": 2
  },
  {
   "source": [
    "# Load the reviews dataset and preview it\n",
    "reviews = pd.read_csv(\"reviews.csv\")\n",
    "reviews"
   ],
   "metadata": {
    "executionCancelledAt": null,
    "executionTime": 269,
    "lastExecutedAt": 1720557074405,
    "lastExecutedByKernel": "5f98952b-fa90-414a-8856-39a68b3bdd75",
    "lastScheduledRunId": null,
    "lastSuccessfullyExecutedCode": "# Load the reviews dataset and preview it\nreviews = pd.read_csv('reviews.csv')\nreviews.head()",
    "outputsMetadata": {
     "0": {
      "height": 196,
      "type": "dataFrame"
     }
    },
    "ExecuteTime": {
     "end_time": "2025-01-25T14:13:13.837864Z",
     "start_time": "2025-01-25T14:13:13.739216Z"
    }
   },
   "id": "7fbf3e3f-0526-4f53-908e-0bf9913f213d",
   "cell_type": "code",
   "outputs": [
    {
     "data": {
      "text/plain": [
       "                                                 content  score\n",
       "0                          I cannot open the app anymore      1\n",
       "1      I have been begging for a refund from this app...      1\n",
       "2      Very costly for the premium version (approx In...      1\n",
       "3      Used to keep me organized, but all the 2020 UP...      1\n",
       "4                                    Dan Birthday Oct 28      1\n",
       "...                                                  ...    ...\n",
       "12490  I really like the planner, it helps me achieve...      5\n",
       "12491                                             😁****😁      5\n",
       "12492                  Very useful apps. You must try it      5\n",
       "12493  Would pay for this if there were even more add...      5\n",
       "12494                                         Sooow good      5\n",
       "\n",
       "[12495 rows x 2 columns]"
      ],
      "text/html": [
       "<div>\n",
       "<style scoped>\n",
       "    .dataframe tbody tr th:only-of-type {\n",
       "        vertical-align: middle;\n",
       "    }\n",
       "\n",
       "    .dataframe tbody tr th {\n",
       "        vertical-align: top;\n",
       "    }\n",
       "\n",
       "    .dataframe thead th {\n",
       "        text-align: right;\n",
       "    }\n",
       "</style>\n",
       "<table border=\"1\" class=\"dataframe\">\n",
       "  <thead>\n",
       "    <tr style=\"text-align: right;\">\n",
       "      <th></th>\n",
       "      <th>content</th>\n",
       "      <th>score</th>\n",
       "    </tr>\n",
       "  </thead>\n",
       "  <tbody>\n",
       "    <tr>\n",
       "      <th>0</th>\n",
       "      <td>I cannot open the app anymore</td>\n",
       "      <td>1</td>\n",
       "    </tr>\n",
       "    <tr>\n",
       "      <th>1</th>\n",
       "      <td>I have been begging for a refund from this app...</td>\n",
       "      <td>1</td>\n",
       "    </tr>\n",
       "    <tr>\n",
       "      <th>2</th>\n",
       "      <td>Very costly for the premium version (approx In...</td>\n",
       "      <td>1</td>\n",
       "    </tr>\n",
       "    <tr>\n",
       "      <th>3</th>\n",
       "      <td>Used to keep me organized, but all the 2020 UP...</td>\n",
       "      <td>1</td>\n",
       "    </tr>\n",
       "    <tr>\n",
       "      <th>4</th>\n",
       "      <td>Dan Birthday Oct 28</td>\n",
       "      <td>1</td>\n",
       "    </tr>\n",
       "    <tr>\n",
       "      <th>...</th>\n",
       "      <td>...</td>\n",
       "      <td>...</td>\n",
       "    </tr>\n",
       "    <tr>\n",
       "      <th>12490</th>\n",
       "      <td>I really like the planner, it helps me achieve...</td>\n",
       "      <td>5</td>\n",
       "    </tr>\n",
       "    <tr>\n",
       "      <th>12491</th>\n",
       "      <td>😁****😁</td>\n",
       "      <td>5</td>\n",
       "    </tr>\n",
       "    <tr>\n",
       "      <th>12492</th>\n",
       "      <td>Very useful apps. You must try it</td>\n",
       "      <td>5</td>\n",
       "    </tr>\n",
       "    <tr>\n",
       "      <th>12493</th>\n",
       "      <td>Would pay for this if there were even more add...</td>\n",
       "      <td>5</td>\n",
       "    </tr>\n",
       "    <tr>\n",
       "      <th>12494</th>\n",
       "      <td>Sooow good</td>\n",
       "      <td>5</td>\n",
       "    </tr>\n",
       "  </tbody>\n",
       "</table>\n",
       "<p>12495 rows × 2 columns</p>\n",
       "</div>"
      ]
     },
     "execution_count": 3,
     "metadata": {},
     "output_type": "execute_result"
    }
   ],
   "execution_count": 3
  },
  {
   "metadata": {
    "ExecuteTime": {
     "end_time": "2025-01-25T14:13:13.935901Z",
     "start_time": "2025-01-25T14:13:13.917625Z"
    }
   },
   "cell_type": "code",
   "source": [
    "# Subset for only 1 and 2 score\n",
    "reviews = reviews[reviews['score'].isin([1, 2])]\n",
    "reviews"
   ],
   "id": "a687b350ac13af81",
   "outputs": [
    {
     "data": {
      "text/plain": [
       "                                                 content  score\n",
       "0                          I cannot open the app anymore      1\n",
       "1      I have been begging for a refund from this app...      1\n",
       "2      Very costly for the premium version (approx In...      1\n",
       "3      Used to keep me organized, but all the 2020 UP...      1\n",
       "4                                    Dan Birthday Oct 28      1\n",
       "...                                                  ...    ...\n",
       "11940  I loved it until I realized that the very feat...      2\n",
       "11941  Gave it a test run and tried out the notificat...      2\n",
       "11942  Looks great but since installing, my device on...      2\n",
       "11943  This app looked good until I had to purchase i...      2\n",
       "11944                                           It's OK!      2\n",
       "\n",
       "[4850 rows x 2 columns]"
      ],
      "text/html": [
       "<div>\n",
       "<style scoped>\n",
       "    .dataframe tbody tr th:only-of-type {\n",
       "        vertical-align: middle;\n",
       "    }\n",
       "\n",
       "    .dataframe tbody tr th {\n",
       "        vertical-align: top;\n",
       "    }\n",
       "\n",
       "    .dataframe thead th {\n",
       "        text-align: right;\n",
       "    }\n",
       "</style>\n",
       "<table border=\"1\" class=\"dataframe\">\n",
       "  <thead>\n",
       "    <tr style=\"text-align: right;\">\n",
       "      <th></th>\n",
       "      <th>content</th>\n",
       "      <th>score</th>\n",
       "    </tr>\n",
       "  </thead>\n",
       "  <tbody>\n",
       "    <tr>\n",
       "      <th>0</th>\n",
       "      <td>I cannot open the app anymore</td>\n",
       "      <td>1</td>\n",
       "    </tr>\n",
       "    <tr>\n",
       "      <th>1</th>\n",
       "      <td>I have been begging for a refund from this app...</td>\n",
       "      <td>1</td>\n",
       "    </tr>\n",
       "    <tr>\n",
       "      <th>2</th>\n",
       "      <td>Very costly for the premium version (approx In...</td>\n",
       "      <td>1</td>\n",
       "    </tr>\n",
       "    <tr>\n",
       "      <th>3</th>\n",
       "      <td>Used to keep me organized, but all the 2020 UP...</td>\n",
       "      <td>1</td>\n",
       "    </tr>\n",
       "    <tr>\n",
       "      <th>4</th>\n",
       "      <td>Dan Birthday Oct 28</td>\n",
       "      <td>1</td>\n",
       "    </tr>\n",
       "    <tr>\n",
       "      <th>...</th>\n",
       "      <td>...</td>\n",
       "      <td>...</td>\n",
       "    </tr>\n",
       "    <tr>\n",
       "      <th>11940</th>\n",
       "      <td>I loved it until I realized that the very feat...</td>\n",
       "      <td>2</td>\n",
       "    </tr>\n",
       "    <tr>\n",
       "      <th>11941</th>\n",
       "      <td>Gave it a test run and tried out the notificat...</td>\n",
       "      <td>2</td>\n",
       "    </tr>\n",
       "    <tr>\n",
       "      <th>11942</th>\n",
       "      <td>Looks great but since installing, my device on...</td>\n",
       "      <td>2</td>\n",
       "    </tr>\n",
       "    <tr>\n",
       "      <th>11943</th>\n",
       "      <td>This app looked good until I had to purchase i...</td>\n",
       "      <td>2</td>\n",
       "    </tr>\n",
       "    <tr>\n",
       "      <th>11944</th>\n",
       "      <td>It's OK!</td>\n",
       "      <td>2</td>\n",
       "    </tr>\n",
       "  </tbody>\n",
       "</table>\n",
       "<p>4850 rows × 2 columns</p>\n",
       "</div>"
      ]
     },
     "execution_count": 4,
     "metadata": {},
     "output_type": "execute_result"
    }
   ],
   "execution_count": 4
  },
  {
   "source": "To reveal the main topics from app reviews, you'll perform these tasks:\n\n- Preprocess the negative reviews (reviews with a score of 1 or 2) by tokenizing the text, removing stop words and non-alpha characters. Save the results in a pandas DataFrame called preprocessed_reviews.\n\n- Vectorize the cleaned negative reviews using TF-IDF and store the matrix in a variable called tfidf_matrix.\n\n- Apply K-means clustering to tfidf_matrix to group the reviews into five categories. Store the predicted labels in a list called categories.\n\n- For each unique cluster label, find the most frequent term. Store the results in a pandas DataFrame called topic_terms with at least three columns to store the label assigned from K-means, the identified term, and its frequency.",
   "metadata": {},
   "cell_type": "markdown",
   "id": "690772ef-eb7f-49c5-b5ab-8a14eb418450"
  },
  {
   "metadata": {
    "ExecuteTime": {
     "end_time": "2025-01-25T14:13:14.031818Z",
     "start_time": "2025-01-25T14:13:14.009453Z"
    }
   },
   "cell_type": "code",
   "source": "reviews.describe()",
   "id": "df8383059e17d9c0",
   "outputs": [
    {
     "data": {
      "text/plain": [
       "             score\n",
       "count  4850.000000\n",
       "mean      1.483299\n",
       "std       0.499773\n",
       "min       1.000000\n",
       "25%       1.000000\n",
       "50%       1.000000\n",
       "75%       2.000000\n",
       "max       2.000000"
      ],
      "text/html": [
       "<div>\n",
       "<style scoped>\n",
       "    .dataframe tbody tr th:only-of-type {\n",
       "        vertical-align: middle;\n",
       "    }\n",
       "\n",
       "    .dataframe tbody tr th {\n",
       "        vertical-align: top;\n",
       "    }\n",
       "\n",
       "    .dataframe thead th {\n",
       "        text-align: right;\n",
       "    }\n",
       "</style>\n",
       "<table border=\"1\" class=\"dataframe\">\n",
       "  <thead>\n",
       "    <tr style=\"text-align: right;\">\n",
       "      <th></th>\n",
       "      <th>score</th>\n",
       "    </tr>\n",
       "  </thead>\n",
       "  <tbody>\n",
       "    <tr>\n",
       "      <th>count</th>\n",
       "      <td>4850.000000</td>\n",
       "    </tr>\n",
       "    <tr>\n",
       "      <th>mean</th>\n",
       "      <td>1.483299</td>\n",
       "    </tr>\n",
       "    <tr>\n",
       "      <th>std</th>\n",
       "      <td>0.499773</td>\n",
       "    </tr>\n",
       "    <tr>\n",
       "      <th>min</th>\n",
       "      <td>1.000000</td>\n",
       "    </tr>\n",
       "    <tr>\n",
       "      <th>25%</th>\n",
       "      <td>1.000000</td>\n",
       "    </tr>\n",
       "    <tr>\n",
       "      <th>50%</th>\n",
       "      <td>1.000000</td>\n",
       "    </tr>\n",
       "    <tr>\n",
       "      <th>75%</th>\n",
       "      <td>2.000000</td>\n",
       "    </tr>\n",
       "    <tr>\n",
       "      <th>max</th>\n",
       "      <td>2.000000</td>\n",
       "    </tr>\n",
       "  </tbody>\n",
       "</table>\n",
       "</div>"
      ]
     },
     "execution_count": 5,
     "metadata": {},
     "output_type": "execute_result"
    }
   ],
   "execution_count": 5
  },
  {
   "source": [
    "## FUNCTION DEFINITIONS\n",
    "\n",
    "from nltk.stem.porter import PorterStemmer\n",
    "from nltk.stem.wordnet import WordNetLemmatizer\n",
    "\n",
    "def preprocess_text(text: str) -> str:\n",
    "    \"\"\"\n",
    "    Cleans, removes stopwords from text\n",
    "    :param text: \n",
    "    :return: cleaned text\n",
    "    \"\"\"\n",
    "    text = nltk.word_tokenize(text)\n",
    "    # remove stopwords\n",
    "    text = ' '.join(word for word in text if word.isalpha() and word.lower() not in stopwords.words('english'))\n",
    "    return text\n",
    "def lemmatize_stem(text: str, stem: bool) -> str:\n",
    "    \"\"\"\n",
    "    :param text:\n",
    "    :param stem: \n",
    "    :return: stemmed text\n",
    "    \"\"\"\n",
    "    text = str.split(text)\n",
    "    if stem:\n",
    "        text = \" \".join(PorterStemmer().stem(word) for word in text)\n",
    "    else:\n",
    "        text = \" \".join(WordNetLemmatizer().lemmatize(word, pos='v') for word in text)\n",
    "    return text\n",
    "\n",
    "def cluster_reviews(matrix):\n",
    "    km = KMeans(n_clusters=5, random_state=42)\n",
    "    labels = km.fit_predict(matrix)\n",
    "    return labels\n",
    "\n",
    "def five_common_words(text: str) -> tuple:\n",
    "    \"\"\"\n",
    "    Gets 5 most common words\n",
    "    :param text: \n",
    "    :return: 5 most common woeds\n",
    "    \"\"\"\n",
    "    text = Counter(text)\n",
    "    text = text.most_common(1)\n",
    "    return text\n",
    "\n",
    "def get_most_frequent(review, groupby_column):\n",
    "    \"\"\"\n",
    "    Gets most frequent words into a dataframe\n",
    "    :param review: \n",
    "    :param groupby_column: \n",
    "    :return: \n",
    "    \"\"\"\n",
    "    review = review.groupby(groupby_column)['cleaned_tokenize_reviews'].apply(lambda x: str.split(' '.join(x))).reset_index()\n",
    "    word_freq = review['cleaned_tokenize_reviews'].apply(five_common_words)\n",
    "    word_freq = [(word, figure) for sublist in word_freq for (word, figure) in sublist]\n",
    "    review['most frequent word'] = [word for (word, freq) in word_freq]\n",
    "    review['Frequency of word'] = [freq for (word, freq) in word_freq]\n",
    "    review.drop(columns=['cleaned_tokenize_reviews'], inplace=True)\n",
    "    return review\n",
    "\n",
    "def top_terms(matrix, labels, vectorizer, num_cluster):\n",
    "    # Store the predicted labels in a list variable called categories\n",
    "    categories = labels\n",
    "\n",
    "    # Get the feature names (terms) from the vectorizer\n",
    "    terms = vectorizer.get_feature_names_out()\n",
    "\n",
    "    # List to save the top term for each cluster\n",
    "    topic_terms_list = []\n",
    "\n",
    "    for cluster in range(num_cluster):\n",
    "        # Get indices of reviews in the current cluster\n",
    "        cluster_indices = [i for i, label in enumerate(categories) if label == cluster]\n",
    "\n",
    "        # Sum the tf-idf scores for each term in the cluster\n",
    "        cluster_tfidf_sum = matrix[cluster_indices].sum(axis=0)\n",
    "        cluster_term_freq = np.asarray(cluster_tfidf_sum).ravel()\n",
    "\n",
    "        # Get the top term and its frequencies\n",
    "        top_term_index = cluster_term_freq.argsort()[::-1][0]\n",
    "\n",
    "        # Append rows to the topic_terms DataFrame with three fields:\n",
    "        # - category: label / cluster assigned from K-means\n",
    "        # - term: the identified top term\n",
    "        # - frequency: term's weight for the category\n",
    "        topic_terms_list.append(\n",
    "            {\n",
    "                \"category\": cluster,\n",
    "                \"term\": terms[top_term_index],\n",
    "                \"frequency\": cluster_term_freq[top_term_index],\n",
    "            }\n",
    "        )\n",
    "\n",
    "    # Pandas DataFrame to store results from this step\n",
    "    topic_terms = pd.DataFrame(topic_terms_list)\n",
    "\n",
    "    # Output the final result\n",
    "    return  topic_terms"
   ],
   "metadata": {
    "executionCancelledAt": null,
    "executionTime": 10,
    "lastExecutedAt": 1720557076395,
    "lastExecutedByKernel": "5f98952b-fa90-414a-8856-39a68b3bdd75",
    "lastScheduledRunId": null,
    "lastSuccessfullyExecutedCode": "# Your code starts here\n# Cells are free! Use as many as you need ;)",
    "ExecuteTime": {
     "end_time": "2025-01-25T14:13:14.247570Z",
     "start_time": "2025-01-25T14:13:14.229172Z"
    }
   },
   "id": "3b2697f7-e85a-4a11-bfbb-59af07b89c75",
   "cell_type": "code",
   "outputs": [],
   "execution_count": 6
  },
  {
   "metadata": {
    "ExecuteTime": {
     "end_time": "2025-01-25T14:13:32.874656Z",
     "start_time": "2025-01-25T14:13:14.571879Z"
    }
   },
   "cell_type": "code",
   "source": [
    "# apply to reviews\n",
    "reviews['cleaned_tokenize_reviews'] = reviews['content'].apply(preprocess_text)\n",
    "reviews"
   ],
   "id": "eea70c44eabdc2fa",
   "outputs": [
    {
     "name": "stderr",
     "output_type": "stream",
     "text": [
      "/tmp/ipykernel_36560/3934005313.py:2: SettingWithCopyWarning: \n",
      "A value is trying to be set on a copy of a slice from a DataFrame.\n",
      "Try using .loc[row_indexer,col_indexer] = value instead\n",
      "\n",
      "See the caveats in the documentation: https://pandas.pydata.org/pandas-docs/stable/user_guide/indexing.html#returning-a-view-versus-a-copy\n",
      "  reviews['cleaned_tokenize_reviews'] = reviews['content'].apply(preprocess_text)\n"
     ]
    },
    {
     "data": {
      "text/plain": [
       "                                                 content  score  \\\n",
       "0                          I cannot open the app anymore      1   \n",
       "1      I have been begging for a refund from this app...      1   \n",
       "2      Very costly for the premium version (approx In...      1   \n",
       "3      Used to keep me organized, but all the 2020 UP...      1   \n",
       "4                                    Dan Birthday Oct 28      1   \n",
       "...                                                  ...    ...   \n",
       "11940  I loved it until I realized that the very feat...      2   \n",
       "11941  Gave it a test run and tried out the notificat...      2   \n",
       "11942  Looks great but since installing, my device on...      2   \n",
       "11943  This app looked good until I had to purchase i...      2   \n",
       "11944                                           It's OK!      2   \n",
       "\n",
       "                                cleaned_tokenize_reviews  \n",
       "0                                       open app anymore  \n",
       "1               begging refund app month nobody replying  \n",
       "2      costly premium version approx Indian Rupees pe...  \n",
       "3      Used keep organized UPDATES made mess things c...  \n",
       "4                                       Dan Birthday Oct  \n",
       "...                                                  ...  \n",
       "11940  loved realized feature got download first plac...  \n",
       "11941  Gave test run tried notifications hear thing A...  \n",
       "11942  Looks great since installing device lasts half...  \n",
       "11943  app looked good purchase get week view everyti...  \n",
       "11944                                                 OK  \n",
       "\n",
       "[4850 rows x 3 columns]"
      ],
      "text/html": [
       "<div>\n",
       "<style scoped>\n",
       "    .dataframe tbody tr th:only-of-type {\n",
       "        vertical-align: middle;\n",
       "    }\n",
       "\n",
       "    .dataframe tbody tr th {\n",
       "        vertical-align: top;\n",
       "    }\n",
       "\n",
       "    .dataframe thead th {\n",
       "        text-align: right;\n",
       "    }\n",
       "</style>\n",
       "<table border=\"1\" class=\"dataframe\">\n",
       "  <thead>\n",
       "    <tr style=\"text-align: right;\">\n",
       "      <th></th>\n",
       "      <th>content</th>\n",
       "      <th>score</th>\n",
       "      <th>cleaned_tokenize_reviews</th>\n",
       "    </tr>\n",
       "  </thead>\n",
       "  <tbody>\n",
       "    <tr>\n",
       "      <th>0</th>\n",
       "      <td>I cannot open the app anymore</td>\n",
       "      <td>1</td>\n",
       "      <td>open app anymore</td>\n",
       "    </tr>\n",
       "    <tr>\n",
       "      <th>1</th>\n",
       "      <td>I have been begging for a refund from this app...</td>\n",
       "      <td>1</td>\n",
       "      <td>begging refund app month nobody replying</td>\n",
       "    </tr>\n",
       "    <tr>\n",
       "      <th>2</th>\n",
       "      <td>Very costly for the premium version (approx In...</td>\n",
       "      <td>1</td>\n",
       "      <td>costly premium version approx Indian Rupees pe...</td>\n",
       "    </tr>\n",
       "    <tr>\n",
       "      <th>3</th>\n",
       "      <td>Used to keep me organized, but all the 2020 UP...</td>\n",
       "      <td>1</td>\n",
       "      <td>Used keep organized UPDATES made mess things c...</td>\n",
       "    </tr>\n",
       "    <tr>\n",
       "      <th>4</th>\n",
       "      <td>Dan Birthday Oct 28</td>\n",
       "      <td>1</td>\n",
       "      <td>Dan Birthday Oct</td>\n",
       "    </tr>\n",
       "    <tr>\n",
       "      <th>...</th>\n",
       "      <td>...</td>\n",
       "      <td>...</td>\n",
       "      <td>...</td>\n",
       "    </tr>\n",
       "    <tr>\n",
       "      <th>11940</th>\n",
       "      <td>I loved it until I realized that the very feat...</td>\n",
       "      <td>2</td>\n",
       "      <td>loved realized feature got download first plac...</td>\n",
       "    </tr>\n",
       "    <tr>\n",
       "      <th>11941</th>\n",
       "      <td>Gave it a test run and tried out the notificat...</td>\n",
       "      <td>2</td>\n",
       "      <td>Gave test run tried notifications hear thing A...</td>\n",
       "    </tr>\n",
       "    <tr>\n",
       "      <th>11942</th>\n",
       "      <td>Looks great but since installing, my device on...</td>\n",
       "      <td>2</td>\n",
       "      <td>Looks great since installing device lasts half...</td>\n",
       "    </tr>\n",
       "    <tr>\n",
       "      <th>11943</th>\n",
       "      <td>This app looked good until I had to purchase i...</td>\n",
       "      <td>2</td>\n",
       "      <td>app looked good purchase get week view everyti...</td>\n",
       "    </tr>\n",
       "    <tr>\n",
       "      <th>11944</th>\n",
       "      <td>It's OK!</td>\n",
       "      <td>2</td>\n",
       "      <td>OK</td>\n",
       "    </tr>\n",
       "  </tbody>\n",
       "</table>\n",
       "<p>4850 rows × 3 columns</p>\n",
       "</div>"
      ]
     },
     "execution_count": 7,
     "metadata": {},
     "output_type": "execute_result"
    }
   ],
   "execution_count": 7
  },
  {
   "metadata": {
    "ExecuteTime": {
     "end_time": "2025-01-25T14:13:33.125738Z",
     "start_time": "2025-01-25T14:13:33.116544Z"
    }
   },
   "cell_type": "code",
   "source": [
    "# Copy to new dataframe\n",
    "preprocessed_reviews = reviews[['cleaned_tokenize_reviews']].copy()"
   ],
   "id": "e1b13271072a5b09",
   "outputs": [],
   "execution_count": 8
  },
  {
   "metadata": {
    "ExecuteTime": {
     "end_time": "2025-01-25T14:13:41.754441Z",
     "start_time": "2025-01-25T14:13:33.401190Z"
    }
   },
   "cell_type": "code",
   "source": [
    "preprocessed_reviews['cleaned_tokenize_reviews_stem'] = preprocessed_reviews['cleaned_tokenize_reviews'].apply(lambda x: lemmatize_stem(x, True))\n",
    "preprocessed_reviews['cleaned_tokenize_reviews_lem'] = preprocessed_reviews['cleaned_tokenize_reviews'].apply(lambda x: lemmatize_stem(x, False))"
   ],
   "id": "ccdaea6d3e4ca36f",
   "outputs": [],
   "execution_count": 9
  },
  {
   "metadata": {
    "ExecuteTime": {
     "end_time": "2025-01-25T14:13:42.068637Z",
     "start_time": "2025-01-25T14:13:42.047482Z"
    }
   },
   "cell_type": "code",
   "source": "preprocessed_reviews",
   "id": "4542544bf8f96906",
   "outputs": [
    {
     "data": {
      "text/plain": [
       "                                cleaned_tokenize_reviews  \\\n",
       "0                                       open app anymore   \n",
       "1               begging refund app month nobody replying   \n",
       "2      costly premium version approx Indian Rupees pe...   \n",
       "3      Used keep organized UPDATES made mess things c...   \n",
       "4                                       Dan Birthday Oct   \n",
       "...                                                  ...   \n",
       "11940  loved realized feature got download first plac...   \n",
       "11941  Gave test run tried notifications hear thing A...   \n",
       "11942  Looks great since installing device lasts half...   \n",
       "11943  app looked good purchase get week view everyti...   \n",
       "11944                                                 OK   \n",
       "\n",
       "                           cleaned_tokenize_reviews_stem  \\\n",
       "0                                        open app anymor   \n",
       "1                      beg refund app month nobodi repli   \n",
       "2      costli premium version approx indian rupe per ...   \n",
       "3      use keep organ updat made mess thing cud u lea...   \n",
       "4                                       dan birthday oct   \n",
       "...                                                  ...   \n",
       "11940  love realiz featur got download first place av...   \n",
       "11941  gave test run tri notif hear thing also save n...   \n",
       "11942  look great sinc instal devic last half long ne...   \n",
       "11943  app look good purchas get week view everytim c...   \n",
       "11944                                                 ok   \n",
       "\n",
       "                            cleaned_tokenize_reviews_lem  \n",
       "0                                       open app anymore  \n",
       "1                      beg refund app month nobody reply  \n",
       "2      costly premium version approx Indian Rupees pe...  \n",
       "3      Used keep organize UPDATES make mess things cu...  \n",
       "4                                       Dan Birthday Oct  \n",
       "...                                                  ...  \n",
       "11940  love realize feature get download first place ...  \n",
       "11941  Gave test run try notifications hear thing Als...  \n",
       "11942  Looks great since instal device last half long...  \n",
       "11943  app look good purchase get week view everytime...  \n",
       "11944                                                 OK  \n",
       "\n",
       "[4850 rows x 3 columns]"
      ],
      "text/html": [
       "<div>\n",
       "<style scoped>\n",
       "    .dataframe tbody tr th:only-of-type {\n",
       "        vertical-align: middle;\n",
       "    }\n",
       "\n",
       "    .dataframe tbody tr th {\n",
       "        vertical-align: top;\n",
       "    }\n",
       "\n",
       "    .dataframe thead th {\n",
       "        text-align: right;\n",
       "    }\n",
       "</style>\n",
       "<table border=\"1\" class=\"dataframe\">\n",
       "  <thead>\n",
       "    <tr style=\"text-align: right;\">\n",
       "      <th></th>\n",
       "      <th>cleaned_tokenize_reviews</th>\n",
       "      <th>cleaned_tokenize_reviews_stem</th>\n",
       "      <th>cleaned_tokenize_reviews_lem</th>\n",
       "    </tr>\n",
       "  </thead>\n",
       "  <tbody>\n",
       "    <tr>\n",
       "      <th>0</th>\n",
       "      <td>open app anymore</td>\n",
       "      <td>open app anymor</td>\n",
       "      <td>open app anymore</td>\n",
       "    </tr>\n",
       "    <tr>\n",
       "      <th>1</th>\n",
       "      <td>begging refund app month nobody replying</td>\n",
       "      <td>beg refund app month nobodi repli</td>\n",
       "      <td>beg refund app month nobody reply</td>\n",
       "    </tr>\n",
       "    <tr>\n",
       "      <th>2</th>\n",
       "      <td>costly premium version approx Indian Rupees pe...</td>\n",
       "      <td>costli premium version approx indian rupe per ...</td>\n",
       "      <td>costly premium version approx Indian Rupees pe...</td>\n",
       "    </tr>\n",
       "    <tr>\n",
       "      <th>3</th>\n",
       "      <td>Used keep organized UPDATES made mess things c...</td>\n",
       "      <td>use keep organ updat made mess thing cud u lea...</td>\n",
       "      <td>Used keep organize UPDATES make mess things cu...</td>\n",
       "    </tr>\n",
       "    <tr>\n",
       "      <th>4</th>\n",
       "      <td>Dan Birthday Oct</td>\n",
       "      <td>dan birthday oct</td>\n",
       "      <td>Dan Birthday Oct</td>\n",
       "    </tr>\n",
       "    <tr>\n",
       "      <th>...</th>\n",
       "      <td>...</td>\n",
       "      <td>...</td>\n",
       "      <td>...</td>\n",
       "    </tr>\n",
       "    <tr>\n",
       "      <th>11940</th>\n",
       "      <td>loved realized feature got download first plac...</td>\n",
       "      <td>love realiz featur got download first place av...</td>\n",
       "      <td>love realize feature get download first place ...</td>\n",
       "    </tr>\n",
       "    <tr>\n",
       "      <th>11941</th>\n",
       "      <td>Gave test run tried notifications hear thing A...</td>\n",
       "      <td>gave test run tri notif hear thing also save n...</td>\n",
       "      <td>Gave test run try notifications hear thing Als...</td>\n",
       "    </tr>\n",
       "    <tr>\n",
       "      <th>11942</th>\n",
       "      <td>Looks great since installing device lasts half...</td>\n",
       "      <td>look great sinc instal devic last half long ne...</td>\n",
       "      <td>Looks great since instal device last half long...</td>\n",
       "    </tr>\n",
       "    <tr>\n",
       "      <th>11943</th>\n",
       "      <td>app looked good purchase get week view everyti...</td>\n",
       "      <td>app look good purchas get week view everytim c...</td>\n",
       "      <td>app look good purchase get week view everytime...</td>\n",
       "    </tr>\n",
       "    <tr>\n",
       "      <th>11944</th>\n",
       "      <td>OK</td>\n",
       "      <td>ok</td>\n",
       "      <td>OK</td>\n",
       "    </tr>\n",
       "  </tbody>\n",
       "</table>\n",
       "<p>4850 rows × 3 columns</p>\n",
       "</div>"
      ]
     },
     "execution_count": 10,
     "metadata": {},
     "output_type": "execute_result"
    }
   ],
   "execution_count": 10
  },
  {
   "metadata": {
    "ExecuteTime": {
     "end_time": "2025-01-25T14:13:42.484497Z",
     "start_time": "2025-01-25T14:13:42.305036Z"
    }
   },
   "cell_type": "code",
   "source": [
    "# Vectorize non lemmatized/stemmed reviews\n",
    "tfid_na = TfidfVectorizer()\n",
    "tfid_mat = tfid_na.fit_transform(preprocessed_reviews['cleaned_tokenize_reviews'])\n",
    "tfid_mat"
   ],
   "id": "cbc7318356999f89",
   "outputs": [
    {
     "data": {
      "text/plain": [
       "<Compressed Sparse Row sparse matrix of dtype 'float64'\n",
       "\twith 68707 stored elements and shape (4850, 7054)>"
      ]
     },
     "execution_count": 11,
     "metadata": {},
     "output_type": "execute_result"
    }
   ],
   "execution_count": 11
  },
  {
   "metadata": {
    "ExecuteTime": {
     "end_time": "2025-01-25T14:13:42.739711Z",
     "start_time": "2025-01-25T14:13:42.561885Z"
    }
   },
   "cell_type": "code",
   "source": [
    "# Vectorize lemmatized/stemmed reviews\n",
    "tfid_stm = TfidfVectorizer()\n",
    "tfid_stm_mat = tfid_stm.fit_transform(preprocessed_reviews['cleaned_tokenize_reviews_stem'])\n",
    "tfid_stm_mat"
   ],
   "id": "d9fb20695a366c77",
   "outputs": [
    {
     "data": {
      "text/plain": [
       "<Compressed Sparse Row sparse matrix of dtype 'float64'\n",
       "\twith 66877 stored elements and shape (4850, 4986)>"
      ]
     },
     "execution_count": 12,
     "metadata": {},
     "output_type": "execute_result"
    }
   ],
   "execution_count": 12
  },
  {
   "metadata": {
    "ExecuteTime": {
     "end_time": "2025-01-25T14:13:43.035776Z",
     "start_time": "2025-01-25T14:13:42.875538Z"
    }
   },
   "cell_type": "code",
   "source": [
    "# Vectorize lemmatized/stemmed reviews\n",
    "tfid_lem = TfidfVectorizer()\n",
    "tfid_lem_mat = tfid_lem.fit_transform(preprocessed_reviews['cleaned_tokenize_reviews_lem'])\n",
    "tfid_lem_mat"
   ],
   "id": "44ee5073038a34c3",
   "outputs": [
    {
     "data": {
      "text/plain": [
       "<Compressed Sparse Row sparse matrix of dtype 'float64'\n",
       "\twith 67430 stored elements and shape (4850, 6013)>"
      ]
     },
     "execution_count": 13,
     "metadata": {},
     "output_type": "execute_result"
    }
   ],
   "execution_count": 13
  },
  {
   "metadata": {
    "ExecuteTime": {
     "end_time": "2025-01-25T14:13:43.069901Z",
     "start_time": "2025-01-25T14:13:43.065051Z"
    }
   },
   "cell_type": "code",
   "source": "",
   "id": "1027b66758c53532",
   "outputs": [],
   "execution_count": null
  },
  {
   "metadata": {
    "ExecuteTime": {
     "end_time": "2025-01-25T14:13:43.400807Z",
     "start_time": "2025-01-25T14:13:43.115088Z"
    }
   },
   "cell_type": "code",
   "source": [
    "# in\n",
    "non_cluster = cluster_reviews(tfid_mat)\n",
    "stem_cluster = cluster_reviews(tfid_stm_mat)\n",
    "lem_cluster = cluster_reviews(tfid_lem_mat)"
   ],
   "id": "33635ab56c54bc50",
   "outputs": [],
   "execution_count": 14
  },
  {
   "metadata": {
    "ExecuteTime": {
     "end_time": "2025-01-25T14:13:43.460515Z",
     "start_time": "2025-01-25T14:13:43.447142Z"
    }
   },
   "cell_type": "code",
   "source": [
    "reviews['non_cluster'] = non_cluster\n",
    "reviews['stem_cluster'] = stem_cluster\n",
    "reviews['lem_cluster'] = lem_cluster"
   ],
   "id": "1abea2d253492bbf",
   "outputs": [
    {
     "name": "stderr",
     "output_type": "stream",
     "text": [
      "/tmp/ipykernel_36560/4217679653.py:1: SettingWithCopyWarning: \n",
      "A value is trying to be set on a copy of a slice from a DataFrame.\n",
      "Try using .loc[row_indexer,col_indexer] = value instead\n",
      "\n",
      "See the caveats in the documentation: https://pandas.pydata.org/pandas-docs/stable/user_guide/indexing.html#returning-a-view-versus-a-copy\n",
      "  reviews['non_cluster'] = non_cluster\n",
      "/tmp/ipykernel_36560/4217679653.py:2: SettingWithCopyWarning: \n",
      "A value is trying to be set on a copy of a slice from a DataFrame.\n",
      "Try using .loc[row_indexer,col_indexer] = value instead\n",
      "\n",
      "See the caveats in the documentation: https://pandas.pydata.org/pandas-docs/stable/user_guide/indexing.html#returning-a-view-versus-a-copy\n",
      "  reviews['stem_cluster'] = stem_cluster\n",
      "/tmp/ipykernel_36560/4217679653.py:3: SettingWithCopyWarning: \n",
      "A value is trying to be set on a copy of a slice from a DataFrame.\n",
      "Try using .loc[row_indexer,col_indexer] = value instead\n",
      "\n",
      "See the caveats in the documentation: https://pandas.pydata.org/pandas-docs/stable/user_guide/indexing.html#returning-a-view-versus-a-copy\n",
      "  reviews['lem_cluster'] = lem_cluster\n"
     ]
    }
   ],
   "execution_count": 15
  },
  {
   "metadata": {
    "ExecuteTime": {
     "end_time": "2025-01-25T14:13:43.566738Z",
     "start_time": "2025-01-25T14:13:43.561561Z"
    }
   },
   "cell_type": "code",
   "source": "",
   "id": "f66311702e8927be",
   "outputs": [],
   "execution_count": null
  },
  {
   "metadata": {
    "ExecuteTime": {
     "end_time": "2025-01-25T14:13:43.824736Z",
     "start_time": "2025-01-25T14:13:43.695588Z"
    }
   },
   "cell_type": "code",
   "source": "top_terms(tfid_mat, non_cluster, tfid_na, 5)",
   "id": "841160d9d833bc0",
   "outputs": [
    {
     "data": {
      "text/plain": [
       "   category  term   frequency\n",
       "0         0  work   72.540212\n",
       "1         1   use   64.014781\n",
       "2         2  good   55.182230\n",
       "3         3   ads   49.210517\n",
       "4         4   app  189.542772"
      ],
      "text/html": [
       "<div>\n",
       "<style scoped>\n",
       "    .dataframe tbody tr th:only-of-type {\n",
       "        vertical-align: middle;\n",
       "    }\n",
       "\n",
       "    .dataframe tbody tr th {\n",
       "        vertical-align: top;\n",
       "    }\n",
       "\n",
       "    .dataframe thead th {\n",
       "        text-align: right;\n",
       "    }\n",
       "</style>\n",
       "<table border=\"1\" class=\"dataframe\">\n",
       "  <thead>\n",
       "    <tr style=\"text-align: right;\">\n",
       "      <th></th>\n",
       "      <th>category</th>\n",
       "      <th>term</th>\n",
       "      <th>frequency</th>\n",
       "    </tr>\n",
       "  </thead>\n",
       "  <tbody>\n",
       "    <tr>\n",
       "      <th>0</th>\n",
       "      <td>0</td>\n",
       "      <td>work</td>\n",
       "      <td>72.540212</td>\n",
       "    </tr>\n",
       "    <tr>\n",
       "      <th>1</th>\n",
       "      <td>1</td>\n",
       "      <td>use</td>\n",
       "      <td>64.014781</td>\n",
       "    </tr>\n",
       "    <tr>\n",
       "      <th>2</th>\n",
       "      <td>2</td>\n",
       "      <td>good</td>\n",
       "      <td>55.182230</td>\n",
       "    </tr>\n",
       "    <tr>\n",
       "      <th>3</th>\n",
       "      <td>3</td>\n",
       "      <td>ads</td>\n",
       "      <td>49.210517</td>\n",
       "    </tr>\n",
       "    <tr>\n",
       "      <th>4</th>\n",
       "      <td>4</td>\n",
       "      <td>app</td>\n",
       "      <td>189.542772</td>\n",
       "    </tr>\n",
       "  </tbody>\n",
       "</table>\n",
       "</div>"
      ]
     },
     "execution_count": 16,
     "metadata": {},
     "output_type": "execute_result"
    }
   ],
   "execution_count": 16
  },
  {
   "metadata": {
    "ExecuteTime": {
     "end_time": "2025-01-25T14:13:44.024052Z",
     "start_time": "2025-01-25T14:13:43.900783Z"
    }
   },
   "cell_type": "code",
   "source": "top_terms(tfid_lem_mat, lem_cluster, tfid_lem, 5)",
   "id": "a558743a33d4fa81",
   "outputs": [
    {
     "data": {
      "text/plain": [
       "   category     term   frequency\n",
       "0         0     work  103.467471\n",
       "1         1      app  178.556566\n",
       "2         2  version   61.960493\n",
       "3         3     good   38.519915\n",
       "4         4     task   97.293399"
      ],
      "text/html": [
       "<div>\n",
       "<style scoped>\n",
       "    .dataframe tbody tr th:only-of-type {\n",
       "        vertical-align: middle;\n",
       "    }\n",
       "\n",
       "    .dataframe tbody tr th {\n",
       "        vertical-align: top;\n",
       "    }\n",
       "\n",
       "    .dataframe thead th {\n",
       "        text-align: right;\n",
       "    }\n",
       "</style>\n",
       "<table border=\"1\" class=\"dataframe\">\n",
       "  <thead>\n",
       "    <tr style=\"text-align: right;\">\n",
       "      <th></th>\n",
       "      <th>category</th>\n",
       "      <th>term</th>\n",
       "      <th>frequency</th>\n",
       "    </tr>\n",
       "  </thead>\n",
       "  <tbody>\n",
       "    <tr>\n",
       "      <th>0</th>\n",
       "      <td>0</td>\n",
       "      <td>work</td>\n",
       "      <td>103.467471</td>\n",
       "    </tr>\n",
       "    <tr>\n",
       "      <th>1</th>\n",
       "      <td>1</td>\n",
       "      <td>app</td>\n",
       "      <td>178.556566</td>\n",
       "    </tr>\n",
       "    <tr>\n",
       "      <th>2</th>\n",
       "      <td>2</td>\n",
       "      <td>version</td>\n",
       "      <td>61.960493</td>\n",
       "    </tr>\n",
       "    <tr>\n",
       "      <th>3</th>\n",
       "      <td>3</td>\n",
       "      <td>good</td>\n",
       "      <td>38.519915</td>\n",
       "    </tr>\n",
       "    <tr>\n",
       "      <th>4</th>\n",
       "      <td>4</td>\n",
       "      <td>task</td>\n",
       "      <td>97.293399</td>\n",
       "    </tr>\n",
       "  </tbody>\n",
       "</table>\n",
       "</div>"
      ]
     },
     "execution_count": 17,
     "metadata": {},
     "output_type": "execute_result"
    }
   ],
   "execution_count": 17
  },
  {
   "metadata": {
    "ExecuteTime": {
     "end_time": "2025-01-25T14:13:44.644922Z",
     "start_time": "2025-01-25T14:13:44.574561Z"
    }
   },
   "cell_type": "code",
   "source": [
    "# Non stemmed clusters\n",
    "non_reviews = get_most_frequent(reviews, 'non_cluster')\n",
    "non_reviews"
   ],
   "id": "d9683c0ae67c86e1",
   "outputs": [
    {
     "data": {
      "text/plain": [
       "   non_cluster most frequent word  Frequency of word\n",
       "0            0               work                300\n",
       "1            1                use                333\n",
       "2            2            version                319\n",
       "3            3                ads                221\n",
       "4            4                app               2239"
      ],
      "text/html": [
       "<div>\n",
       "<style scoped>\n",
       "    .dataframe tbody tr th:only-of-type {\n",
       "        vertical-align: middle;\n",
       "    }\n",
       "\n",
       "    .dataframe tbody tr th {\n",
       "        vertical-align: top;\n",
       "    }\n",
       "\n",
       "    .dataframe thead th {\n",
       "        text-align: right;\n",
       "    }\n",
       "</style>\n",
       "<table border=\"1\" class=\"dataframe\">\n",
       "  <thead>\n",
       "    <tr style=\"text-align: right;\">\n",
       "      <th></th>\n",
       "      <th>non_cluster</th>\n",
       "      <th>most frequent word</th>\n",
       "      <th>Frequency of word</th>\n",
       "    </tr>\n",
       "  </thead>\n",
       "  <tbody>\n",
       "    <tr>\n",
       "      <th>0</th>\n",
       "      <td>0</td>\n",
       "      <td>work</td>\n",
       "      <td>300</td>\n",
       "    </tr>\n",
       "    <tr>\n",
       "      <th>1</th>\n",
       "      <td>1</td>\n",
       "      <td>use</td>\n",
       "      <td>333</td>\n",
       "    </tr>\n",
       "    <tr>\n",
       "      <th>2</th>\n",
       "      <td>2</td>\n",
       "      <td>version</td>\n",
       "      <td>319</td>\n",
       "    </tr>\n",
       "    <tr>\n",
       "      <th>3</th>\n",
       "      <td>3</td>\n",
       "      <td>ads</td>\n",
       "      <td>221</td>\n",
       "    </tr>\n",
       "    <tr>\n",
       "      <th>4</th>\n",
       "      <td>4</td>\n",
       "      <td>app</td>\n",
       "      <td>2239</td>\n",
       "    </tr>\n",
       "  </tbody>\n",
       "</table>\n",
       "</div>"
      ]
     },
     "execution_count": 18,
     "metadata": {},
     "output_type": "execute_result"
    }
   ],
   "execution_count": 18
  },
  {
   "metadata": {
    "ExecuteTime": {
     "end_time": "2025-01-25T14:13:44.851280Z",
     "start_time": "2025-01-25T14:13:44.794114Z"
    }
   },
   "cell_type": "code",
   "source": [
    "stem_cluster = get_most_frequent(reviews, 'stem_cluster')\n",
    "stem_cluster"
   ],
   "id": "9758f40a5aebbe81",
   "outputs": [
    {
     "data": {
      "text/plain": [
       "   stem_cluster most frequent word  Frequency of word\n",
       "0             0                app                324\n",
       "1             1                app               1698\n",
       "2             2              tasks                441\n",
       "3             3                ads                217\n",
       "4             4                app                446"
      ],
      "text/html": [
       "<div>\n",
       "<style scoped>\n",
       "    .dataframe tbody tr th:only-of-type {\n",
       "        vertical-align: middle;\n",
       "    }\n",
       "\n",
       "    .dataframe tbody tr th {\n",
       "        vertical-align: top;\n",
       "    }\n",
       "\n",
       "    .dataframe thead th {\n",
       "        text-align: right;\n",
       "    }\n",
       "</style>\n",
       "<table border=\"1\" class=\"dataframe\">\n",
       "  <thead>\n",
       "    <tr style=\"text-align: right;\">\n",
       "      <th></th>\n",
       "      <th>stem_cluster</th>\n",
       "      <th>most frequent word</th>\n",
       "      <th>Frequency of word</th>\n",
       "    </tr>\n",
       "  </thead>\n",
       "  <tbody>\n",
       "    <tr>\n",
       "      <th>0</th>\n",
       "      <td>0</td>\n",
       "      <td>app</td>\n",
       "      <td>324</td>\n",
       "    </tr>\n",
       "    <tr>\n",
       "      <th>1</th>\n",
       "      <td>1</td>\n",
       "      <td>app</td>\n",
       "      <td>1698</td>\n",
       "    </tr>\n",
       "    <tr>\n",
       "      <th>2</th>\n",
       "      <td>2</td>\n",
       "      <td>tasks</td>\n",
       "      <td>441</td>\n",
       "    </tr>\n",
       "    <tr>\n",
       "      <th>3</th>\n",
       "      <td>3</td>\n",
       "      <td>ads</td>\n",
       "      <td>217</td>\n",
       "    </tr>\n",
       "    <tr>\n",
       "      <th>4</th>\n",
       "      <td>4</td>\n",
       "      <td>app</td>\n",
       "      <td>446</td>\n",
       "    </tr>\n",
       "  </tbody>\n",
       "</table>\n",
       "</div>"
      ]
     },
     "execution_count": 19,
     "metadata": {},
     "output_type": "execute_result"
    }
   ],
   "execution_count": 19
  },
  {
   "metadata": {
    "ExecuteTime": {
     "end_time": "2025-01-25T14:13:45.087502Z",
     "start_time": "2025-01-25T14:13:45.037071Z"
    }
   },
   "cell_type": "code",
   "source": [
    "# Non stemmed clusters\n",
    "lem_reviews = get_most_frequent(reviews, 'lem_cluster')\n",
    "lem_reviews"
   ],
   "id": "76a3c284b24849ae",
   "outputs": [
    {
     "data": {
      "text/plain": [
       "   lem_cluster most frequent word  Frequency of word\n",
       "0            0               work                250\n",
       "1            1                app               2022\n",
       "2            2                app                528\n",
       "3            3               good                 42\n",
       "4            4              tasks                424"
      ],
      "text/html": [
       "<div>\n",
       "<style scoped>\n",
       "    .dataframe tbody tr th:only-of-type {\n",
       "        vertical-align: middle;\n",
       "    }\n",
       "\n",
       "    .dataframe tbody tr th {\n",
       "        vertical-align: top;\n",
       "    }\n",
       "\n",
       "    .dataframe thead th {\n",
       "        text-align: right;\n",
       "    }\n",
       "</style>\n",
       "<table border=\"1\" class=\"dataframe\">\n",
       "  <thead>\n",
       "    <tr style=\"text-align: right;\">\n",
       "      <th></th>\n",
       "      <th>lem_cluster</th>\n",
       "      <th>most frequent word</th>\n",
       "      <th>Frequency of word</th>\n",
       "    </tr>\n",
       "  </thead>\n",
       "  <tbody>\n",
       "    <tr>\n",
       "      <th>0</th>\n",
       "      <td>0</td>\n",
       "      <td>work</td>\n",
       "      <td>250</td>\n",
       "    </tr>\n",
       "    <tr>\n",
       "      <th>1</th>\n",
       "      <td>1</td>\n",
       "      <td>app</td>\n",
       "      <td>2022</td>\n",
       "    </tr>\n",
       "    <tr>\n",
       "      <th>2</th>\n",
       "      <td>2</td>\n",
       "      <td>app</td>\n",
       "      <td>528</td>\n",
       "    </tr>\n",
       "    <tr>\n",
       "      <th>3</th>\n",
       "      <td>3</td>\n",
       "      <td>good</td>\n",
       "      <td>42</td>\n",
       "    </tr>\n",
       "    <tr>\n",
       "      <th>4</th>\n",
       "      <td>4</td>\n",
       "      <td>tasks</td>\n",
       "      <td>424</td>\n",
       "    </tr>\n",
       "  </tbody>\n",
       "</table>\n",
       "</div>"
      ]
     },
     "execution_count": 20,
     "metadata": {},
     "output_type": "execute_result"
    }
   ],
   "execution_count": 20
  }
 ],
 "metadata": {
  "colab": {
   "name": "Welcome to DataCamp Workspaces.ipynb",
   "provenance": []
  },
  "kernelspec": {
   "display_name": "Python 3 (ipykernel)",
   "language": "python",
   "name": "python3"
  },
  "language_info": {
   "name": "python",
   "version": "3.8.10",
   "mimetype": "text/x-python",
   "codemirror_mode": {
    "name": "ipython",
    "version": 3
   },
   "pygments_lexer": "ipython3",
   "nbconvert_exporter": "python",
   "file_extension": ".py"
  },
  "editor": "DataLab"
 },
 "nbformat": 4,
 "nbformat_minor": 5
}
